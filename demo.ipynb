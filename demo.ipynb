{
 "cells": [
  {
   "cell_type": "code",
   "execution_count": null,
   "metadata": {},
   "outputs": [],
   "source": [
    "import cv2\n",
    "from dataset import valid_transform\n",
    "import glob\n",
    "import torchvision.models as tm\n",
    "import torch\n",
    "\n",
    "model = tm.densenet121(weights=tm.DenseNet121_Weights.DEFAULT)\n",
    "model.classifier = torch.nn.Linear(model.classifier.in_features, 2)\n",
    "ckpt = torch.load(\"/home/songwei/Template/checkpoints/baseline/last.ckpt\")\n",
    "\n",
    "for k, v in list(ckpt[\"state_dict\"].items()):\n",
    "    if \"model.\" in k:\n",
    "        ckpt[\"state_dict\"][k[6:]] = ckpt[\"state_dict\"].pop(k)\n",
    "\n",
    "model.load_state_dict(ckpt[\"state_dict\"])\n",
    "model.cuda(1)"
   ]
  },
  {
   "cell_type": "code",
   "execution_count": null,
   "metadata": {},
   "outputs": [],
   "source": [
    "test_path = \"/home/songwei/Template/data/test\"\n",
    "test_list = glob.glob(test_path + \"/*.png\")\n",
    "test_list = sorted(test_list)\n",
    "predictions = []\n",
    "\n",
    "for path in test_list:\n",
    "    print(path)\n",
    "    img = cv2.cvtColor(cv2.imread(path), cv2.COLOR_BGR2RGB)\n",
    "    img = valid_transform(image=img)[\"image\"]\n",
    "    img = img.unsqueeze(0).cuda(1)\n",
    "    model.eval()\n",
    "    with torch.no_grad():\n",
    "        pred = (\n",
    "            model(img)\n",
    "            + model(img + 0.1)\n",
    "            + model(img - 0.1)\n",
    "            + model(img + 0.2)\n",
    "            + model(img - 0.2)\n",
    "            + model(img * 1.1)\n",
    "            + model(img * 0.9)\n",
    "        )\n",
    "    predictions.append(pred.argmax().item())"
   ]
  }
 ],
 "metadata": {
  "kernelspec": {
   "display_name": "cv2d",
   "language": "python",
   "name": "python3"
  },
  "language_info": {
   "codemirror_mode": {
    "name": "ipython",
    "version": 3
   },
   "file_extension": ".py",
   "mimetype": "text/x-python",
   "name": "python",
   "nbconvert_exporter": "python",
   "pygments_lexer": "ipython3",
   "version": "3.10.13"
  }
 },
 "nbformat": 4,
 "nbformat_minor": 2
}
